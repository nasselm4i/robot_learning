{
 "cells": [
  {
   "cell_type": "code",
   "execution_count": 3,
   "metadata": {},
   "outputs": [],
   "source": [
    "import numpy as np \n",
    "true_states_test = [[-0.00085576, 0.07743341, 0.04463615, 0.03457697, 0.09833628, -0.03224816,\n",
    "    0.00142076, 0.09858224, -0.08934387, 0.01019686, -0.10242464, -0.12022159,\n",
    "    0.06116501, 0.06590115, -0.05810025, -0.20909315, -0.06575317, 0.161716,\n",
    "  -0.00085576, 0., 0.7774334]]\n",
    "\n",
    "np_true_state = np.array(true_states_test)\n"
   ]
  },
  {
   "cell_type": "code",
   "execution_count": 5,
   "metadata": {},
   "outputs": [
    {
     "data": {
      "text/plain": [
       "array([-0.00085576,  0.07743341,  0.04463615,  0.03457697,  0.09833628,\n",
       "       -0.03224816,  0.00142076,  0.09858224, -0.08934387,  0.01019686,\n",
       "       -0.10242464, -0.12022159,  0.06116501,  0.06590115, -0.05810025,\n",
       "       -0.20909315, -0.06575317,  0.161716  , -0.00085576,  0.        ,\n",
       "        0.7774334 ])"
      ]
     },
     "execution_count": 5,
     "metadata": {},
     "output_type": "execute_result"
    }
   ],
   "source": [
    "np_true_state[0,:]"
   ]
  }
 ],
 "metadata": {
  "kernelspec": {
   "display_name": "Python 3",
   "language": "python",
   "name": "python3"
  },
  "language_info": {
   "codemirror_mode": {
    "name": "ipython",
    "version": 3
   },
   "file_extension": ".py",
   "mimetype": "text/x-python",
   "name": "python",
   "nbconvert_exporter": "python",
   "pygments_lexer": "ipython3",
   "version": "3.8.18"
  }
 },
 "nbformat": 4,
 "nbformat_minor": 2
}
